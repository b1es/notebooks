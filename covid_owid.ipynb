{
 "cells": [
  {
   "cell_type": "markdown",
   "metadata": {},
   "source": [
    "# COVID-19\n",
    "\n",
    "### Data on COVID-19 (coronavirus) by Our World in Data\n",
    "\n",
    "Datasource:<br/>\n",
    "[https://github.com/owid/covid-19-data/tree/master/public/data/](https://github.com/owid/covid-19-data/tree/master/public/data/)"
   ]
  },
  {
   "cell_type": "code",
   "execution_count": null,
   "metadata": {},
   "outputs": [],
   "source": [
    "import os, sys\n",
    "import numpy as np\n",
    "import pandas as pd\n",
    "import datetime as dt\n",
    "from matplotlib import pyplot as plt\n",
    "from ipywidgets import widgets, interactive\n",
    "\n",
    "%matplotlib widget"
   ]
  },
  {
   "cell_type": "code",
   "execution_count": null,
   "metadata": {},
   "outputs": [],
   "source": [
    "path = 'https://covid.ourworldindata.org/data/owid-covid-data.csv'\n",
    "df = pd.read_csv(path)\n",
    "df['date'] = df['date'].apply(lambda x: dt.datetime.strptime(x,'%Y-%m-%d'))"
   ]
  },
  {
   "cell_type": "code",
   "execution_count": null,
   "metadata": {},
   "outputs": [],
   "source": [
    "loc_selection = widgets.SelectMultiple(options = ['All'] + df['location'].unique().tolist(), \n",
    "                                       value=['Norway', 'Poland', 'Germany'], \n",
    "                                       description='Select country', \n",
    "                                       rows=10)\n",
    "start_selection = widgets.DatePicker(value=dt.datetime(2020, 7, 1), description='Start')\n",
    "end_selection = widgets.DatePicker(value=df['date'].max(), description='End')\n",
    "\n",
    "def plot_ovid(location, start_time, end_time):\n",
    "    start_time = pd.to_datetime(start_time)\n",
    "    end_time = pd.to_datetime(end_time)\n",
    "    columns = ['date', 'location', 'new_cases', 'population']\n",
    "    time_idx = (df['date']>=start_time-dt.timedelta(days=14)) & (df['date']<=end_time)\n",
    "    if 'All' in location:\n",
    "        df_plt = df[time_idx][columns].set_index('date')\n",
    "    else:\n",
    "        df_plt = df[(time_idx) & (df['location'].isin(location))][columns].set_index('date')\n",
    "    df_plt['cc'] = df_plt['new_cases'].rolling(14).sum()\n",
    "    df_plt['cpt'] = df_plt['cc']*1e5/df_plt['population']\n",
    "    plt.close()\n",
    "    fig, ax = plt.subplots()\n",
    "    df_plt.groupby('location')['cpt'].plot()\n",
    "    ax.set_xlim((start_time, dt.datetime.now()))\n",
    "    ax.set_ylim((0, 400))\n",
    "    ax.legend()\n",
    "    ax.grid()\n",
    "    ax.set_title('biweekly new cases per 10k')\n",
    "    plt.show()\n",
    "    return fig, ax"
   ]
  },
  {
   "cell_type": "code",
   "execution_count": null,
   "metadata": {},
   "outputs": [],
   "source": [
    "interactive(plot_ovid, location=loc_selection, start_time=start_selection, end_time=end_selection)"
   ]
  }
 ],
 "metadata": {
  "kernelspec": {
   "display_name": "magic",
   "language": "python",
   "name": "magic"
  },
  "language_info": {
   "codemirror_mode": {
    "name": "ipython",
    "version": 3
   },
   "file_extension": ".py",
   "mimetype": "text/x-python",
   "name": "python",
   "nbconvert_exporter": "python",
   "pygments_lexer": "ipython3",
   "version": "3.8.6"
  }
 },
 "nbformat": 4,
 "nbformat_minor": 4
}
