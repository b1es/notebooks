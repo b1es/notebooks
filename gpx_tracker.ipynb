{
 "cells": [
  {
   "cell_type": "code",
   "execution_count": null,
   "metadata": {},
   "outputs": [],
   "source": [
    "import os, sys\n",
    "import gpxpy\n",
    "import geopy.distance as geod\n",
    "import numpy as np\n",
    "import pandas as pd\n",
    "import matplotlib.pyplot as plt\n",
    "import k3d\n",
    "\n",
    "%matplotlib notebook"
   ]
  },
  {
   "cell_type": "code",
   "execution_count": null,
   "metadata": {},
   "outputs": [],
   "source": [
    "with open('resources/gpx/20201105_183635.gpx', 'r') as f:\n",
    "    gpx1 = gpxpy.parse(f)\n",
    "with open('resources/gpx/activity_5526524846.gpx', 'r') as f:\n",
    "    gpx2 = gpxpy.parse(f)"
   ]
  },
  {
   "cell_type": "code",
   "execution_count": null,
   "metadata": {},
   "outputs": [],
   "source": [
    "def gpx_to_df(gpx):\n",
    "    pts = [pt[0] for pt in gpx.walk()]\n",
    "    data = []\n",
    "    prev = pts[0]\n",
    "    dist = 0.0\n",
    "    for pt in pts:\n",
    "        dist += pt.distance_3d(prev)\n",
    "        dt = (pt.time-prev.time).total_seconds()\n",
    "        speed = 0.0 if dt == 0.0 else pt.distance_3d(prev) / dt * 3.6\n",
    "        prev = pt\n",
    "        data.append((pt.time, dist, pt.elevation, pt.latitude, pt.longitude, speed))\n",
    "    df = pd.DataFrame(columns=['time', 'distance', 'elev', 'lat', 'lon', 'speed'], data=data)\n",
    "    df['elev_norm'] = df['elev'] - df['elev'].min()\n",
    "    df['lat_norm'] = df['lat'] - df['lat'].min()\n",
    "    df['lon_norm'] = df['lon'] - df['lon'].min()\n",
    "    return df"
   ]
  },
  {
   "cell_type": "code",
   "execution_count": null,
   "metadata": {},
   "outputs": [],
   "source": [
    "df1 = gpx_to_df(gpx1)\n",
    "df2 = gpx_to_df(gpx2)"
   ]
  },
  {
   "cell_type": "code",
   "execution_count": null,
   "metadata": {},
   "outputs": [],
   "source": [
    "plt.plot(df1.distance, df1.elev_norm)\n",
    "plt.plot(df2.distance, df2.elev_norm)\n",
    "plt.grid()\n",
    "plt.show()"
   ]
  },
  {
   "cell_type": "code",
   "execution_count": null,
   "metadata": {},
   "outputs": [],
   "source": []
  }
 ],
 "metadata": {
  "kernelspec": {
   "display_name": "magic",
   "language": "python",
   "name": "magic"
  },
  "language_info": {
   "codemirror_mode": {
    "name": "ipython",
    "version": 3
   },
   "file_extension": ".py",
   "mimetype": "text/x-python",
   "name": "python",
   "nbconvert_exporter": "python",
   "pygments_lexer": "ipython3",
   "version": "3.8.6"
  }
 },
 "nbformat": 4,
 "nbformat_minor": 4
}
